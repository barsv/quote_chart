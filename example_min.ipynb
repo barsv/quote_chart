{
 "cells": [
  {
   "cell_type": "code",
   "execution_count": 2,
   "metadata": {},
   "outputs": [],
   "source": [
    "# uncomment the next line to run it once to install dependencies.\n",
    "#!pip install dash plotly pandas"
   ]
  },
  {
   "cell_type": "code",
   "execution_count": 1,
   "metadata": {},
   "outputs": [
    {
     "data": {
      "text/html": [
       "\n",
       "        <iframe\n",
       "            width=\"100%\"\n",
       "            height=\"650\"\n",
       "            src=\"http://127.0.0.1:8050/\"\n",
       "            frameborder=\"0\"\n",
       "            allowfullscreen\n",
       "            \n",
       "        ></iframe>\n",
       "        "
      ],
      "text/plain": [
       "<IPython.lib.display.IFrame at 0x736f503cafe0>"
      ]
     },
     "metadata": {},
     "output_type": "display_data"
    }
   ],
   "source": [
    "from quote_chart import create_chart_app\n",
    "import plotly.express as px\n",
    "\n",
    "def create_figure(x0, x1):\n",
    "    df = px.data.stocks()\n",
    "    df.set_index('date', inplace=True)\n",
    "    return px.line(df['GOOG'])\n",
    "\n",
    "app = create_chart_app(create_figure)\n",
    "app.run_server()"
   ]
  },
  {
   "cell_type": "code",
   "execution_count": 3,
   "metadata": {},
   "outputs": [
    {
     "ename": "NameError",
     "evalue": "name 'np' is not defined",
     "output_type": "error",
     "traceback": [
      "\u001b[0;31m---------------------------------------------------------------------------\u001b[0m",
      "\u001b[0;31mNameError\u001b[0m                                 Traceback (most recent call last)",
      "Cell \u001b[0;32mIn[3], line 25\u001b[0m\n\u001b[1;32m     22\u001b[0m     data \u001b[38;5;241m=\u001b[39m data\u001b[38;5;241m.\u001b[39mround(\u001b[38;5;241m2\u001b[39m)\n\u001b[1;32m     23\u001b[0m     \u001b[38;5;28;01mreturn\u001b[39;00m data\n\u001b[0;32m---> 25\u001b[0m data \u001b[38;5;241m=\u001b[39m \u001b[43mgenerate_random_prices\u001b[49m\u001b[43m(\u001b[49m\u001b[43m)\u001b[49m\n",
      "Cell \u001b[0;32mIn[3], line 3\u001b[0m, in \u001b[0;36mgenerate_random_prices\u001b[0;34m()\u001b[0m\n\u001b[1;32m      1\u001b[0m \u001b[38;5;28;01mdef\u001b[39;00m \u001b[38;5;21mgenerate_random_prices\u001b[39m():\n\u001b[1;32m      2\u001b[0m     \u001b[38;5;66;03m# Generate realistic minute data\u001b[39;00m\n\u001b[0;32m----> 3\u001b[0m     \u001b[43mnp\u001b[49m\u001b[38;5;241m.\u001b[39mrandom\u001b[38;5;241m.\u001b[39mseed(\u001b[38;5;241m42\u001b[39m)\n\u001b[1;32m      5\u001b[0m     \u001b[38;5;66;03m# Generate datetime index for 30 days of minute data\u001b[39;00m\n\u001b[1;32m      6\u001b[0m     dates \u001b[38;5;241m=\u001b[39m pd\u001b[38;5;241m.\u001b[39mdate_range(\u001b[38;5;124m'\u001b[39m\u001b[38;5;124m2023-01-01 09:30\u001b[39m\u001b[38;5;124m'\u001b[39m, periods\u001b[38;5;241m=\u001b[39m\u001b[38;5;241m30\u001b[39m\u001b[38;5;241m*\u001b[39m\u001b[38;5;241m24\u001b[39m\u001b[38;5;241m*\u001b[39m\u001b[38;5;241m60\u001b[39m, freq\u001b[38;5;241m=\u001b[39m\u001b[38;5;124m'\u001b[39m\u001b[38;5;124mmin\u001b[39m\u001b[38;5;124m'\u001b[39m)\n",
      "\u001b[0;31mNameError\u001b[0m: name 'np' is not defined"
     ]
    }
   ],
   "source": [
    "def generate_random_prices():\n",
    "    # Generate realistic minute data\n",
    "    np.random.seed(42)\n",
    "\n",
    "    # Generate datetime index for 30 days of minute data\n",
    "    dates = pd.date_range('2023-01-01 09:30', periods=30*24*60, freq='min')\n",
    "\n",
    "    # Initialize data with log returns to simulate realistic price movements\n",
    "    log_returns = 1 + np.random.normal(0, 0.001, len(dates))\n",
    "    price = 100 * log_returns.cumprod()  # Starting price of 100\n",
    "\n",
    "    data = pd.DataFrame(index=dates)\n",
    "    data['close'] = price\n",
    "    data['open'] = data['close'].shift(1)\n",
    "\n",
    "    # Correct data for realism\n",
    "    data['high'] = data[['open', 'close']].max(axis=1) * (1 + np.abs(np.random.normal(0, 0.001, len(dates))))\n",
    "    data['low'] = data[['open', 'close']].min(axis=1) * (1 - np.abs(np.random.normal(0, 0.001, len(dates))))\n",
    "    data['volume'] = np.random.randint(100, 1000, size=len(dates))\n",
    "\n",
    "    # Round values to two decimal places\n",
    "    data = data.round(2)\n",
    "    return data\n",
    "\n",
    "data = generate_random_prices()"
   ]
  },
  {
   "cell_type": "code",
   "execution_count": null,
   "metadata": {},
   "outputs": [
    {
     "data": {
      "text/html": [
       "\n",
       "        <iframe\n",
       "            width=\"100%\"\n",
       "            height=\"650\"\n",
       "            src=\"http://127.0.0.1:8050/\"\n",
       "            frameborder=\"0\"\n",
       "            allowfullscreen\n",
       "            \n",
       "        ></iframe>\n",
       "        "
      ],
      "text/plain": [
       "<IPython.lib.display.IFrame at 0x7df9e5fd6ce0>"
      ]
     },
     "metadata": {},
     "output_type": "display_data"
    },
    {
     "name": "stdout",
     "output_type": "stream",
     "text": [
      "Use Shift+scroll to scroll horizontally and Ctrl+scroll to zoom at cursor position.\n"
     ]
    }
   ],
   "source": [
    "# resampled_df will keep resampled version of data. by default there is no resampling until a period button is pressed.\n",
    "resampled_df = data.copy()\n",
    "\n",
    "# create_figure is called on zoom/pans. it recreates the plot for new x range.\n",
    "def create_figure(x0, x1):\n",
    "    if x0 is not None:\n",
    "        df = resampled_df[x0:x1]\n",
    "        if len(df) == 0: # case when period is D but current range is less than a day.\n",
    "            df = resampled_df[-100:]\n",
    "    else:\n",
    "        # by default (before zoom/pan) show last 100 candles.\n",
    "        df = resampled_df[-100:]\n",
    "    # the rest of the code in this function is regular code for plotly.\n",
    "    # define multiple panes. The top pane will be for the main price chart with candles. The second pane is for volumes.\n",
    "    fig = make_subplots(rows=2, cols=1, shared_xaxes=True, \n",
    "                vertical_spacing=0.01,\n",
    "                row_heights=[0.8, 0.2],\n",
    "                specs=[[{\"secondary_y\": True}], [{\"secondary_y\": True}]])\n",
    "    # plot the main chart with price candles.\n",
    "    fig.add_trace(go.Candlestick(x=df.index, open=df['open'], high=df['high'], low=df['low'], close=df['close'],\n",
    "                                 name='Prices'), row=1, col=1)\n",
    "    fig.add_trace(go.Bar(x=df.index, y=df['volume'], name='Volume', marker=dict(color='orange')), row=2, col=1)\n",
    "    # set the default dragmode to pan, remove the range slider because i use zoom/pan instead of it.\n",
    "    fig.update_layout(\n",
    "        dragmode='pan',\n",
    "        xaxis_rangeslider_visible=False,\n",
    "        width=1200, # px\n",
    "        height=600,\n",
    "        margin=dict(l=3, r=3, t=3, b=3),\n",
    "        yaxis=dict(side='right'),\n",
    "        yaxis3=dict(side='right'),\n",
    "        yaxis5=dict(side='right'),\n",
    "        legend=dict(y=0.97, x=0.97),\n",
    "        )\n",
    "    fig.update_xaxes(\n",
    "        ticklabelposition=\"outside right\",  # keep labels on the right so that they don't affect margin-left.\n",
    "    )\n",
    "    return fig\n",
    "\n",
    "# called when a period button is pressed under the plot.\n",
    "def on_period_change(button_id):\n",
    "    global resampled_df, selected_period\n",
    "    if button_id == '':\n",
    "        return\n",
    "    selected_period = button_id\n",
    "    resampled_df = data.resample(selected_period).agg({\n",
    "        'open': 'first',\n",
    "        'high': 'max',\n",
    "        'low': 'min',\n",
    "        'close': 'last',\n",
    "        'volume': 'sum'\n",
    "    })\n",
    "    resampled_df = resampled_df.dropna()\n",
    "    \n",
    "# create dash app and run it.\n",
    "app = create_chart_app(create_figure, on_period_change)\n",
    "app.run_server(debug=True)\n",
    "\n",
    "print('Use Shift+scroll to scroll horizontally and Ctrl+scroll to zoom at cursor position.')\n"
   ]
  }
 ],
 "metadata": {
  "kernelspec": {
   "display_name": "venv",
   "language": "python",
   "name": "python3"
  },
  "language_info": {
   "codemirror_mode": {
    "name": "ipython",
    "version": 3
   },
   "file_extension": ".py",
   "mimetype": "text/x-python",
   "name": "python",
   "nbconvert_exporter": "python",
   "pygments_lexer": "ipython3",
   "version": "3.10.12"
  }
 },
 "nbformat": 4,
 "nbformat_minor": 2
}
