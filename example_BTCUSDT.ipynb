{
 "cells": [
  {
   "cell_type": "code",
   "execution_count": 4,
   "metadata": {},
   "outputs": [],
   "source": [
    "# uncomment the next line to run it once to install dependencies.\n",
    "#!pip install dash plotly pandas requests pandas_ta 'numpy<2.0.0'"
   ]
  },
  {
   "cell_type": "code",
   "execution_count": 5,
   "metadata": {},
   "outputs": [],
   "source": [
    "import requests\n",
    "import zipfile\n",
    "import io\n",
    "import numpy as np\n",
    "import pandas as pd\n",
    "import plotly.graph_objects as go\n",
    "from plotly.subplots import make_subplots\n",
    "from quote_chart import create_chart_app\n",
    "from datetime import datetime\n",
    "from dateutil.relativedelta import relativedelta\n",
    "import pandas_ta as ta"
   ]
  },
  {
   "cell_type": "code",
   "execution_count": 6,
   "metadata": {},
   "outputs": [],
   "source": [
    "def get_prices_from_binance():\n",
    "    print('downloading data from binance...')\n",
    "    # Download the ZIP file from Binance Vision\n",
    "    previous_month_date = datetime.now() - relativedelta(months=1)\n",
    "    formatted_date = previous_month_date.strftime(\"%Y-%m\") # formatted as \"YYYY-MM\"\n",
    "    url = f'https://data.binance.vision/data/spot/monthly/klines/BTCUSDT/1m/BTCUSDT-1m-{formatted_date}.zip'\n",
    "    response = requests.get(url)\n",
    "    z = zipfile.ZipFile(io.BytesIO(response.content))\n",
    "\n",
    "    # Extract the CSV file from the ZIP archive\n",
    "    csv_filename = z.namelist()[0]\n",
    "    csv_file = z.open(csv_filename)\n",
    "\n",
    "    # Read the CSV file into a DataFrame\n",
    "    data = pd.read_csv(csv_file, header=None, names=['timestamp', 'open', 'high', 'low', 'close', 'volume', 'close_time', 'quote_asset_volume', 'number_of_trades', 'taker_buy_base_asset_volume', 'taker_buy_quote_asset_volume', 'ignore'])\n",
    "\n",
    "    # Convert the 'timestamp' column to datetime and set it as the index\n",
    "    data['timestamp'] = pd.to_datetime(data['timestamp'], unit='ms')\n",
    "    data.set_index('timestamp', inplace=True)\n",
    "\n",
    "    # Keep only the required columns\n",
    "    data = data[['open', 'high', 'low', 'close', 'volume']]\n",
    "\n",
    "    print('download complete')\n",
    "    return data"
   ]
  },
  {
   "cell_type": "code",
   "execution_count": 7,
   "metadata": {},
   "outputs": [],
   "source": [
    "def generate_random_prices():\n",
    "    # Generate realistic minute data\n",
    "    np.random.seed(42)\n",
    "\n",
    "    # Generate datetime index for 30 days of minute data\n",
    "    dates = pd.date_range('2023-01-01 09:30', periods=30*24*60, freq='min')\n",
    "\n",
    "    # Initialize data with log returns to simulate realistic price movements\n",
    "    log_returns = 1 + np.random.normal(0, 0.001, len(dates))\n",
    "    price = 100 * log_returns.cumprod()  # Starting price of 100\n",
    "\n",
    "    data = pd.DataFrame(index=dates)\n",
    "    data['close'] = price\n",
    "    data['open'] = data['close'].shift(1)\n",
    "\n",
    "    # Correct data for realism\n",
    "    data['high'] = data[['open', 'close']].max(axis=1) * (1 + np.abs(np.random.normal(0, 0.001, len(dates))))\n",
    "    data['low'] = data[['open', 'close']].min(axis=1) * (1 - np.abs(np.random.normal(0, 0.001, len(dates))))\n",
    "    data['volume'] = np.random.randint(100, 1000, size=len(dates))\n",
    "\n",
    "    # Round values to two decimal places\n",
    "    data = data.round(2)\n",
    "    return data\n"
   ]
  },
  {
   "cell_type": "code",
   "execution_count": 8,
   "metadata": {},
   "outputs": [
    {
     "name": "stdout",
     "output_type": "stream",
     "text": [
      "downloading data from binance...\n",
      "download complete\n"
     ]
    }
   ],
   "source": [
    "data = get_prices_from_binance()\n",
    "# data = generate_random_prices()"
   ]
  },
  {
   "cell_type": "code",
   "execution_count": 9,
   "metadata": {},
   "outputs": [
    {
     "data": {
      "text/html": [
       "\n",
       "        <iframe\n",
       "            width=\"100%\"\n",
       "            height=\"650\"\n",
       "            src=\"http://127.0.0.1:8050/\"\n",
       "            frameborder=\"0\"\n",
       "            allowfullscreen\n",
       "            \n",
       "        ></iframe>\n",
       "        "
      ],
      "text/plain": [
       "<IPython.lib.display.IFrame at 0x78b6bc13f0a0>"
      ]
     },
     "metadata": {},
     "output_type": "display_data"
    }
   ],
   "source": [
    "# resampled_df will keep resampled version of data. by default there is no resampling until a period button is pressed.\n",
    "resampled_df = data.copy()\n",
    "\n",
    "# called when a period button is pressed under the plot.\n",
    "def on_period_change(button_id):\n",
    "    global resampled_df, selected_period\n",
    "    if button_id == '':\n",
    "        return\n",
    "    selected_period = button_id\n",
    "    resampled_df = data.resample(selected_period).agg({\n",
    "        'open': 'first',\n",
    "        'high': 'max',\n",
    "        'low': 'min',\n",
    "        'close': 'last',\n",
    "        'volume': 'sum'\n",
    "    })\n",
    "    resampled_df = resampled_df.dropna()\n",
    "    \n",
    "# create_figure is called on zoom/pans. it recreates the plot for new x range.\n",
    "def create_figure(x0, x1):\n",
    "    if x0 is not None:\n",
    "        df = resampled_df[x0:x1]\n",
    "        # uncomment the lines below if you want to slice dataframe so that there will be enough data to plot the \n",
    "        # chart and also have data on the left and right so that when the user starts to zoom/pan he will see data.\n",
    "        #delta = x1 - x0\n",
    "        #df = candles_df[x0-delta:x1+delta]\n",
    "        if len(df) == 0:\n",
    "            df = resampled_df[-100:]\n",
    "    else:\n",
    "        # by default (before zoom/pan) show last 100 candles.\n",
    "        df = resampled_df[-100:]\n",
    "    # the rest of the code in this function is regular code for plotly.\n",
    "    # define multiple panes. The top pane will be for the main price chart with candles. The second pane is for volumes.\n",
    "    fig = make_subplots(rows=3, cols=1, shared_xaxes=True, \n",
    "                vertical_spacing=0.01,\n",
    "                row_heights=[0.8, 0.2, 0.2],\n",
    "                specs=[[{\"secondary_y\": True}], [{\"secondary_y\": True}], [{\"secondary_y\": True}]])\n",
    "    # extended dataframe for technical analysis. 26 and 12 for MACD.\n",
    "    ex = resampled_df.iloc[max(0, resampled_df.index.get_loc(df.index[0]) - 26 - 12):resampled_df.index.get_loc(df.index[-1])]\n",
    "    ema21 = ta.ema(ex['close'], 21)[-len(df):]\n",
    "    fig.add_trace(go.Scatter(x=df.index, y=ema21, mode='lines', line=dict(color='blue'), name='EMA21'), row=1, col=1)\n",
    "    empty_df = pd.DataFrame(columns=[None, None, None])\n",
    "    macd = ta.macd(ex['close'], fast=12, slow=26, signal=9, min_periods=None, append=True)[-len(df):] if len(df) > 38 else empty_df\n",
    "    fig.add_trace(go.Scatter(x=df.index, y=macd[macd.columns[0]], mode='lines', line=dict(color='blue'), name='MACD signal'), row=3, col=1)\n",
    "    fig.add_trace(go.Scatter(x=df.index, y=macd[macd.columns[2]], mode='lines', line=dict(color='red'), name='MACD line'), row=3, col=1)\n",
    "    fig.add_trace(go.Bar(x=df.index, y=macd[macd.columns[1]], name='MACD histogram'), row=3, col=1)\n",
    "    # plot the main chart with price candles.\n",
    "    fig.add_trace(go.Candlestick(x=df.index,\n",
    "                                 open=df['open'],\n",
    "                                 high=df['high'],\n",
    "                                 low=df['low'],\n",
    "                                 close=df['close'],\n",
    "                                 name='Prices'), row=1, col=1)\n",
    "    fig.add_trace(go.Bar(x=df.index, y=df['volume'], name='Volume', marker=dict(color='orange')), row=2, col=1)\n",
    "    # set the default dragmode to pan, remove the range slider because i use zoom/pan instead of it.\n",
    "    fig.update_layout(\n",
    "        dragmode='pan',\n",
    "        xaxis_rangeslider_visible=False,\n",
    "        width=1200, # px\n",
    "        height=600,\n",
    "        margin=dict(l=3, r=3, t=3, b=3),\n",
    "        yaxis=dict(side='right'),\n",
    "        yaxis3=dict(side='right'),\n",
    "        yaxis5=dict(side='right'),\n",
    "        legend=dict(\n",
    "            y=0.97,\n",
    "            x=0.97,\n",
    "        ),\n",
    "        )\n",
    "    fig.update_xaxes(\n",
    "        ticklabelposition=\"outside right\",  # keep labels on the right so that they don't affect margin-left.\n",
    "    )\n",
    "    return fig\n",
    "\n",
    "# create dash app and run it.\n",
    "app = create_chart_app(create_figure, on_period_change, period_buttons=None, debug=False)\n",
    "app.run_server(debug=True)\n"
   ]
  }
 ],
 "metadata": {
  "kernelspec": {
   "display_name": "venv",
   "language": "python",
   "name": "python3"
  },
  "language_info": {
   "codemirror_mode": {
    "name": "ipython",
    "version": 3
   },
   "file_extension": ".py",
   "mimetype": "text/x-python",
   "name": "python",
   "nbconvert_exporter": "python",
   "pygments_lexer": "ipython3",
   "version": "3.10.12"
  }
 },
 "nbformat": 4,
 "nbformat_minor": 2
}
